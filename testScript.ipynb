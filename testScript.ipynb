{
 "cells": [
  {
   "cell_type": "code",
   "execution_count": 1,
   "id": "fea4582d-1f2b-452a-8b3a-5a3fa39a7e1d",
   "metadata": {},
   "outputs": [
    {
     "name": "stdout",
     "output_type": "stream",
     "text": [
      "{'coord': {'lon': 47.1594, 'lat': 34.3305}, 'weather': [{'id': 800, 'main': 'Clear', 'description': 'clear sky', 'icon': '01n'}], 'base': 'stations', 'main': {'temp': 306.17, 'feels_like': 303.87, 'temp_min': 306.17, 'temp_max': 306.17, 'pressure': 1016, 'humidity': 5}, 'visibility': 10000, 'wind': {'speed': 6.17, 'deg': 90}, 'clouds': {'all': 0}, 'dt': 1692033531, 'sys': {'type': 1, 'id': 7455, 'country': 'IR', 'sunrise': 1691979080, 'sunset': 1692027670}, 'timezone': 12600, 'id': 833, 'name': 'Ḩeşār-e Sefīd', 'cod': 200}\n"
     ]
    }
   ],
   "source": [
    "import gwModules as gw\n",
    "\n",
    "appid = gw.getAppID()\n",
    "weather_at_city = gw.getCityWeather(833, \"string\", appid)\n",
    "\n",
    "print(weather_at_city)"
   ]
  },
  {
   "cell_type": "code",
   "execution_count": 14,
   "id": "3ec9c544-cbc9-4e28-8a66-6341e939ac98",
   "metadata": {},
   "outputs": [
    {
     "ename": "TypeError",
     "evalue": "int() argument must be a string, a bytes-like object or a number, not 'list'",
     "output_type": "error",
     "traceback": [
      "\u001b[0;31m---------------------------------------------------------------------------\u001b[0m",
      "\u001b[0;31mTypeError\u001b[0m                                 Traceback (most recent call last)",
      "Cell \u001b[0;32mIn [15], line 9\u001b[0m\n\u001b[1;32m      7\u001b[0m     tempFile \u001b[38;5;241m=\u001b[39m csv\u001b[38;5;241m.\u001b[39mreader(f, delimiter\u001b[38;5;241m=\u001b[39m\u001b[38;5;124m'\u001b[39m\u001b[38;5;124m,\u001b[39m\u001b[38;5;124m'\u001b[39m)\n\u001b[1;32m      8\u001b[0m     \u001b[38;5;28;01mfor\u001b[39;00m row \u001b[38;5;129;01min\u001b[39;00m tempFile:\n\u001b[0;32m----> 9\u001b[0m         ids\u001b[38;5;241m.\u001b[39mappend(\u001b[38;5;28;43mint\u001b[39;49m\u001b[43m(\u001b[49m\u001b[43mrow\u001b[49m\u001b[43m)\u001b[49m)\n\u001b[1;32m     10\u001b[0m \u001b[38;5;28mprint\u001b[39m(ids)\n",
      "\u001b[0;31mTypeError\u001b[0m: int() argument must be a string, a bytes-like object or a number, not 'list'"
     ]
    }
   ],
   "source": [
    "weather_at_city['wind']\n",
    "\n",
    "import csv\n",
    "\n",
    "ids = []\n",
    "with open('faux.csv') as f:\n",
    "    tempFile = csv.reader(f, delimiter=',')\n",
    "    for row in tempFile:\n",
    "        ids.append(int(''.join(row)))\n",
    "print(ids)\n"
   ]
  },
  {
   "cell_type": "code",
   "execution_count": 44,
   "id": "1397fd70-99d6-4318-ad92-003e6f239cba",
   "metadata": {},
   "outputs": [],
   "source": [
    "class emptyWeathArray:\n",
    "    def __init__(self):\n",
    "        self.array = {\n",
    "            \n",
    "            'coord': {\n",
    "                'lon': None, \n",
    "                'lat': None\n",
    "            }, \n",
    "            \n",
    "            'weather': [\n",
    "                {\n",
    "                    'id': None, \n",
    "                    'main': None, \n",
    "                    'description': None, \n",
    "                    'icon': None\n",
    "                }\n",
    "            ], \n",
    "            \n",
    "            'base': None, \n",
    "            \n",
    "            'main': {\n",
    "                'temp': None, \n",
    "                'feels_like': None, \n",
    "                'temp_min': None, \n",
    "                'temp_max': None, \n",
    "                'pressure': None, \n",
    "                'humidity': None\n",
    "            }, \n",
    "            \n",
    "            'visibility': None, \n",
    "            \n",
    "            'wind': {\n",
    "                'speed': None, \n",
    "                'deg': None\n",
    "            }, \n",
    "            \n",
    "            'clouds': {\n",
    "                'all': None\n",
    "            }, \n",
    "            \n",
    "            'dt': None, \n",
    "            \n",
    "            'sys': {\n",
    "                'type': None, \n",
    "                'id': None, \n",
    "                'country': None, \n",
    "                'sunrise': None, \n",
    "                'sunset': None\n",
    "            }, \n",
    "            \n",
    "            'timezone': None, \n",
    "            \n",
    "            'id': None, \n",
    "            \n",
    "            'name': None, \n",
    "            \n",
    "            'cod': None\n",
    "        }\n",
    "        "
   ]
  },
  {
   "cell_type": "code",
   "execution_count": 48,
   "id": "578798a7-4047-4391-8c58-1d405b1567ac",
   "metadata": {},
   "outputs": [
    {
     "name": "stdout",
     "output_type": "stream",
     "text": [
      "{'coord': {'lon': None, 'lat': None}, 'weather': [{'id': None, 'main': None, 'description': None, 'icon': None}], 'base': None, 'main': {'temp': None, 'feels_like': None, 'temp_min': None, 'temp_max': None, 'pressure': None, 'humidity': None}, 'visibility': None, 'wind': {'speed': None, 'deg': None}, 'clouds': {'all': None}, 'dt': None, 'sys': {'type': None, 'id': None, 'country': None, 'sunrise': None, 'sunset': None}, 'timezone': None, 'id': None, 'name': None, 'cod': None}\n"
     ]
    }
   ],
   "source": [
    "W1 = emptyWeathArray()\n",
    "print(W1.array)\n",
    "W1 = W1.array"
   ]
  },
  {
   "cell_type": "code",
   "execution_count": 62,
   "id": "461b3cfb-942e-46bd-bb51-7f055cfa2903",
   "metadata": {},
   "outputs": [
    {
     "name": "stdout",
     "output_type": "stream",
     "text": [
      "[]\n"
     ]
    },
    {
     "data": {
      "text/plain": [
       "[{'coord': {'lon': None, 'lat': None},\n",
       "  'weather': [{'id': None, 'main': None, 'description': None, 'icon': None}],\n",
       "  'base': None,\n",
       "  'main': {'temp': None,\n",
       "   'feels_like': None,\n",
       "   'temp_min': None,\n",
       "   'temp_max': None,\n",
       "   'pressure': None,\n",
       "   'humidity': None},\n",
       "  'visibility': None,\n",
       "  'wind': {'speed': None, 'deg': None},\n",
       "  'clouds': {'all': None},\n",
       "  'dt': None,\n",
       "  'sys': {'type': None,\n",
       "   'id': None,\n",
       "   'country': None,\n",
       "   'sunrise': None,\n",
       "   'sunset': None},\n",
       "  'timezone': None,\n",
       "  'id': None,\n",
       "  'name': None,\n",
       "  'cod': None},\n",
       " {'coord': {'lon': None, 'lat': None},\n",
       "  'weather': [{'id': None, 'main': None, 'description': None, 'icon': None}],\n",
       "  'base': None,\n",
       "  'main': {'temp': None,\n",
       "   'feels_like': None,\n",
       "   'temp_min': None,\n",
       "   'temp_max': None,\n",
       "   'pressure': None,\n",
       "   'humidity': None},\n",
       "  'visibility': None,\n",
       "  'wind': {'speed': None, 'deg': None},\n",
       "  'clouds': {'all': None},\n",
       "  'dt': None,\n",
       "  'sys': {'type': None,\n",
       "   'id': None,\n",
       "   'country': None,\n",
       "   'sunrise': None,\n",
       "   'sunset': None},\n",
       "  'timezone': None,\n",
       "  'id': None,\n",
       "  'name': None,\n",
       "  'cod': None}]"
      ]
     },
     "execution_count": 62,
     "metadata": {},
     "output_type": "execute_result"
    }
   ],
   "source": [
    "ones = []\n",
    "print(ones)\n",
    "ones.append(W1)\n",
    "ones.append(W1)\n",
    "ones"
   ]
  },
  {
   "cell_type": "code",
   "execution_count": 26,
   "id": "ff9ac846-940e-4ea4-bb28-ff23d8fa06b5",
   "metadata": {},
   "outputs": [],
   "source": [
    "class Elf:\n",
    "    def __init__(self, level, ability_scores=None):\n",
    "        self.level = level\n",
    "        self.ability_scores = {\n",
    "            \"str\": 11, \"dex\": 12, \"con\": 10,\n",
    "            \"int\": 16, \"wis\": 14, \"cha\": 13\n",
    "        } if ability_scores is None else ability_scores\n",
    "        self.hp = 10 + self.ability_scores[\"con\"]"
   ]
  },
  {
   "cell_type": "code",
   "execution_count": 31,
   "id": "395e3014-cd96-43f8-92d6-967d85195d0b",
   "metadata": {},
   "outputs": [
    {
     "name": "stdout",
     "output_type": "stream",
     "text": [
      "20\n"
     ]
    }
   ],
   "source": [
    "elf = Elf(level=4)\n",
    "print(elf.hp)"
   ]
  }
 ],
 "metadata": {
  "kernelspec": {
   "display_name": "Python 3 (ipykernel)",
   "language": "python",
   "name": "python3"
  },
  "language_info": {
   "codemirror_mode": {
    "name": "ipython",
    "version": 3
   },
   "file_extension": ".py",
   "mimetype": "text/x-python",
   "name": "python",
   "nbconvert_exporter": "python",
   "pygments_lexer": "ipython3",
   "version": "3.9.6"
  }
 },
 "nbformat": 4,
 "nbformat_minor": 5
}
