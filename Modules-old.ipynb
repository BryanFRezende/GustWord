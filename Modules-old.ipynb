{
 "cells": [
  {
   "cell_type": "markdown",
   "metadata": {},
   "source": [
    "## Prep"
   ]
  },
  {
   "cell_type": "code",
   "execution_count": 67,
   "metadata": {},
   "outputs": [],
   "source": [
    "import random\n",
    "import matplotlib.pyplot as plt\n",
    "import numpy as np\n",
    "from numpy import save\n",
    "from numpy import load\n",
    "import requests\n",
    "import json\n",
    "import time\n",
    "\n",
    "city_id_arr = load('CityIdArray.npy')\n",
    "entries = load('DictionaryArray.npy')\n",
    "appid = \"PLACEyourAPIkeyHERE\""
   ]
  },
  {
   "cell_type": "markdown",
   "metadata": {},
   "source": [
    "## Digit Generator"
   ]
  },
  {
   "cell_type": "code",
   "execution_count": 32,
   "metadata": {},
   "outputs": [],
   "source": [
    "def DigiGen(digits):\n",
    "    \n",
    "    index = []\n",
    "    for i in range(0,digits):\n",
    "        rand1 = np.random.choice(city_id_arr)\n",
    "        rand2 = np.random.choice(city_id_arr)\n",
    "        #print(rand1,rand2)\n",
    "    \n",
    "        get1 = requests.get(\n",
    "            \"http://api.openweathermap.org/data/2.5/weather?id=\"\n",
    "            +str(rand1)\n",
    "            +\"&appid=\"\n",
    "            +appid)\n",
    "        get2 = requests.get(\n",
    "            \"http://api.openweathermap.org/data/2.5/weather?id=\"\n",
    "            +str(rand2)\n",
    "            +\"&appid=\"\n",
    "            +appid)\n",
    "    \n",
    "        full1 = get1.json()\n",
    "        full2 = get2.json()\n",
    "        #print(full1,full2)\n",
    "    \n",
    "        # Add in exception handling below! KeyError: 'wind' was raised during a run. Fix by checking for a 'wind'\n",
    "        # key and if none is there, running another request.\n",
    "        rwind1 = full1['wind']['speed'], full1['wind']['deg']\n",
    "        rwind2 = full2['wind']['speed'], full2['wind']['deg']\n",
    "        #print(rwind1,rwind2)\n",
    "    \n",
    "        crossprod = rwind1[0]*rwind2[0]*np.sin(rwind1[1]-rwind2[1])\n",
    "        dotprod = rwind1[0]*rwind2[0]*np.cos(rwind1[1]-rwind2[1])\n",
    "        genbase = crossprod + dotprod\n",
    "        \n",
    "        if genbase < 0:\n",
    "            genbase = -genbase\n",
    "            #print('genbase was negative', genbase)\n",
    "        \n",
    "        if genbase == -0.0:\n",
    "            genbase = 0\n",
    "        \n",
    "        while genbase >= 10:\n",
    "            genbase = genbase/random.randint(1,10)\n",
    "            #print(genbase)\n",
    "    \n",
    "        inverter = random.randint(0,1)\n",
    "        #print(inverter)\n",
    "        \n",
    "        if inverter == 0:\n",
    "            genbase = genbase\n",
    "        elif inverter == 1:\n",
    "            genbase = 10 - genbase\n",
    "        \n",
    "        gen = str(genbase)\n",
    "        #print(gen)\n",
    "        random_int = gen[0]\n",
    "        index.append(random_int)\n",
    "        #print(random_int)\n",
    "        \n",
    "    index = ''.join(index)\n",
    "    numindex = int(index)\n",
    "        \n",
    "    return numindex"
   ]
  },
  {
   "cell_type": "markdown",
   "metadata": {},
   "source": [
    "## ID Generator"
   ]
  },
  {
   "cell_type": "code",
   "execution_count": 112,
   "metadata": {},
   "outputs": [],
   "source": [
    "def IDGen(numindex):\n",
    "    \n",
    "    if numindex <= 102217:\n",
    "        findex = numindex\n",
    "        return findex\n",
    "    else:\n",
    "        while numindex > 102217:\n",
    "            numindex = numindex - 102217\n",
    "            if numindex <= 102217:\n",
    "                findex = numindex\n",
    "                return findex"
   ]
  },
  {
   "cell_type": "markdown",
   "metadata": {},
   "source": [
    "## Numbers Generator"
   ]
  },
  {
   "cell_type": "code",
   "execution_count": 57,
   "metadata": {},
   "outputs": [],
   "source": [
    "def NumGen():\n",
    "    \n",
    "    how_many_words = random.randint(2,3)\n",
    "    \n",
    "    how_many_nums = random.randint(2,3)\n",
    "    #print(how_many_nums)\n",
    "    \n",
    "    dig_list = []\n",
    "    for nums in range (0, how_many_nums):\n",
    "        nums = random.randint(2,4)\n",
    "        #print(nums)\n",
    "        dig_list.append(nums)\n",
    "        \n",
    "    \n",
    "    temp_list = [how_many_words, how_many_nums] + dig_list\n",
    "    return temp_list"
   ]
  },
  {
   "cell_type": "markdown",
   "metadata": {},
   "source": [
    "## ID Lookup"
   ]
  },
  {
   "cell_type": "code",
   "execution_count": 60,
   "metadata": {},
   "outputs": [],
   "source": [
    "def IDFind(findex):\n",
    "    \n",
    "    word = entries[findex]\n",
    "    return word"
   ]
  },
  {
   "cell_type": "markdown",
   "metadata": {},
   "source": [
    "## Password Generator"
   ]
  },
  {
   "cell_type": "code",
   "execution_count": 95,
   "metadata": {},
   "outputs": [],
   "source": [
    "def PassGen():\n",
    "    \n",
    "    temp_list = NumGen()\n",
    "    #print(temp_list)\n",
    "    \n",
    "    w = temp_list[0]\n",
    "    n = temp_list[1]\n",
    "    \n",
    "    pass_list = []\n",
    "    for r in range (0,w):\n",
    "        indgen = DigiGen(6)\n",
    "        someid  = IDGen(indgen)\n",
    "        someword = IDFind(someid)\n",
    "        #print(someword)\n",
    "        pass_list.append(someword)\n",
    "        \n",
    "    for d in range (0,n):\n",
    "        pos = temp_list[2+d]\n",
    "        #print(pos)\n",
    "        somenum = DigiGen(pos)\n",
    "        #print(somenum)\n",
    "        pass_list.append(somenum)\n",
    "        \n",
    "    if w == 2 and n == 2:\n",
    "        pass_order = [0,2,1,3]\n",
    "        pass_list = [pass_list[j] for j in pass_order]\n",
    "    elif w == 3 and n == 2:\n",
    "        pass_order = [0,3,1,4,2]\n",
    "        pass_list = [pass_list[j] for j in pass_order]\n",
    "    elif w == 2 and n == 3:\n",
    "        pass_order = [2,0,3,1,4]\n",
    "        pass_list = [pass_list[j] for j in pass_order]\n",
    "    elif w == 3 and n == 3:\n",
    "        pass_order = [0,3,1,4,2,5]\n",
    "        pass_list = [pass_list[j] for j in pass_order]\n",
    "        \n",
    "    password = ''.join([str(elem) for elem in pass_list])\n",
    "    return password"
   ]
  },
  {
   "cell_type": "markdown",
   "metadata": {},
   "source": [
    "## Proof of Concept"
   ]
  },
  {
   "cell_type": "code",
   "execution_count": 121,
   "metadata": {},
   "outputs": [
    {
     "name": "stdout",
     "output_type": "stream",
     "text": [
      "Password  1  is:\n",
      "nugation108scorper138 \n",
      "\n",
      "Password  2  is:\n",
      "8110extrorse88disorientate746 \n",
      "\n",
      "Password  3  is:\n",
      "contemn892cataphonic8402pomely460 \n",
      "\n",
      "Password  4  is:\n",
      "speiskobalt1096retrovaccination3730 \n",
      "\n",
      "Password  5  is:\n",
      "7888metronymic832simulation1391 \n",
      "\n",
      "Password  6  is:\n",
      "creatural79declension2534lysis \n",
      "\n",
      "Password  7  is:\n",
      "lituite89resource1244 \n",
      "\n",
      "Password  8  is:\n",
      "bettor7926externalistic4206 \n",
      "\n",
      "Password  9  is:\n",
      "black hole626terrible4969 \n",
      "\n",
      "Password  10  is:\n",
      "amorphozoic280figgum818underscore30 \n",
      "\n",
      " It took  107.86256694793701  seconds to generate 10 passwords\n"
     ]
    }
   ],
   "source": [
    "initial = time.time()\n",
    "for a in range (0,10):\n",
    "    print(\"Password \", 1+a, \" is:\")\n",
    "    b = PassGen()\n",
    "    print(b, \"\\n\")\n",
    "    \n",
    "final = time.time()\n",
    "elapsed = final - initial\n",
    "print(\" It took \", elapsed, \" seconds to generate 10 passwords\")"
   ]
  }
 ],
 "metadata": {
  "kernelspec": {
   "display_name": "Python 3",
   "language": "python",
   "name": "python3"
  },
  "language_info": {
   "codemirror_mode": {
    "name": "ipython",
    "version": 3
   },
   "file_extension": ".py",
   "mimetype": "text/x-python",
   "name": "python",
   "nbconvert_exporter": "python",
   "pygments_lexer": "ipython3",
   "version": "3.8.6"
  }
 },
 "nbformat": 4,
 "nbformat_minor": 4
}
